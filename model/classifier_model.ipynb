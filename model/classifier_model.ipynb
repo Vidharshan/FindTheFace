{
 "cells": [
  {
   "cell_type": "code",
   "execution_count": null,
   "id": "13124af3-760b-496e-b64f-bee8904931c9",
   "metadata": {},
   "outputs": [],
   "source": [
    "import numpy as np\n",
    "import cv2\n",
    "import matplotlib\n",
    "from matplotlib import pyplot as plt\n",
    "%matplotlib inline"
   ]
  },
  {
   "cell_type": "code",
   "execution_count": null,
   "id": "727a7be6-2ffa-4aad-8713-57933cea03d0",
   "metadata": {},
   "outputs": [],
   "source": [
    "img =cv2.read(./)"
   ]
  }
 ],
 "metadata": {
  "kernelspec": {
   "display_name": "Python 3 (ipykernel)",
   "language": "python",
   "name": "python3"
  },
  "language_info": {
   "codemirror_mode": {
    "name": "ipython",
    "version": 3
   },
   "file_extension": ".py",
   "mimetype": "text/x-python",
   "name": "python",
   "nbconvert_exporter": "python",
   "pygments_lexer": "ipython3",
   "version": "3.11.1"
  }
 },
 "nbformat": 4,
 "nbformat_minor": 5
}
